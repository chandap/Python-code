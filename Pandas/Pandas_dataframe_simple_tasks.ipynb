{
 "cells": [
  {
   "cell_type": "code",
   "execution_count": 145,
   "metadata": {
    "collapsed": true
   },
   "outputs": [],
   "source": [
    "import pandas as pd\n",
    "\n",
    "#initialize a list\n",
    "data = [['Pritam',10,100,'a'],['Madhu',20,200,'b'],['Rio',5,50,'c'],['Ron',4,40,'d'],['Piyali',7,70,'e'],['Arunabha',11,110,'f']]"
   ]
  },
  {
   "cell_type": "code",
   "execution_count": 146,
   "metadata": {
    "collapsed": false
   },
   "outputs": [
    {
     "name": "stdout",
     "output_type": "stream",
     "text": [
      "[['Pritam', 10, 100, 'a'], ['Madhu', 20, 200, 'b'], ['Rio', 5, 50, 'c'], ['Ron', 4, 40, 'd'], ['Piyali', 7, 70, 'e'], ['Arunabha', 11, 110, 'f']]\n"
     ]
    }
   ],
   "source": [
    "print(data)"
   ]
  },
  {
   "cell_type": "code",
   "execution_count": 147,
   "metadata": {
    "collapsed": false
   },
   "outputs": [
    {
     "data": {
      "text/plain": [
       "list"
      ]
     },
     "execution_count": 147,
     "metadata": {},
     "output_type": "execute_result"
    }
   ],
   "source": [
    "type(data)"
   ]
  },
  {
   "cell_type": "code",
   "execution_count": 148,
   "metadata": {
    "collapsed": false
   },
   "outputs": [
    {
     "name": "stdout",
     "output_type": "stream",
     "text": [
      "       Name  value1  value2 type\n",
      "0    Pritam      10     100    a\n",
      "1     Madhu      20     200    b\n",
      "2       Rio       5      50    c\n",
      "3       Ron       4      40    d\n",
      "4    Piyali       7      70    e\n",
      "5  Arunabha      11     110    f\n"
     ]
    }
   ],
   "source": [
    "#create dataframe from a list\n",
    "df = pd.DataFrame(data,columns=['Name','value1','value2','type'])\n",
    "print(df)"
   ]
  },
  {
   "cell_type": "code",
   "execution_count": 149,
   "metadata": {
    "collapsed": false
   },
   "outputs": [
    {
     "name": "stdout",
     "output_type": "stream",
     "text": [
      "Name      object\n",
      "value1     int64\n",
      "value2     int64\n",
      "type      object\n",
      "dtype: object\n"
     ]
    }
   ],
   "source": [
    "print(df.dtypes)"
   ]
  },
  {
   "cell_type": "code",
   "execution_count": 150,
   "metadata": {
    "collapsed": false
   },
   "outputs": [
    {
     "name": "stdout",
     "output_type": "stream",
     "text": [
      "0    10\n",
      "1    20\n",
      "2     5\n",
      "3     4\n",
      "4     7\n",
      "5    11\n",
      "Name: value1, dtype: int64\n"
     ]
    }
   ],
   "source": [
    "print(df['value1'])  #access a column and just print it"
   ]
  },
  {
   "cell_type": "code",
   "execution_count": 151,
   "metadata": {
    "collapsed": false
   },
   "outputs": [
    {
     "name": "stdout",
     "output_type": "stream",
     "text": [
      "['a', 'b', 'c', 'd', 'e', 'f']\n"
     ]
    }
   ],
   "source": [
    "print(list(df['type']))  #access a column and print is as a list"
   ]
  },
  {
   "cell_type": "code",
   "execution_count": 152,
   "metadata": {
    "collapsed": false
   },
   "outputs": [
    {
     "data": {
      "text/html": [
       "<div>\n",
       "<table border=\"1\" class=\"dataframe\">\n",
       "  <thead>\n",
       "    <tr style=\"text-align: right;\">\n",
       "      <th></th>\n",
       "      <th>Name</th>\n",
       "      <th>value1</th>\n",
       "      <th>value2</th>\n",
       "      <th>type</th>\n",
       "      <th>new</th>\n",
       "    </tr>\n",
       "  </thead>\n",
       "  <tbody>\n",
       "    <tr>\n",
       "      <th>0</th>\n",
       "      <td>Pritam</td>\n",
       "      <td>10</td>\n",
       "      <td>100</td>\n",
       "      <td>a</td>\n",
       "      <td>1</td>\n",
       "    </tr>\n",
       "    <tr>\n",
       "      <th>1</th>\n",
       "      <td>Madhu</td>\n",
       "      <td>20</td>\n",
       "      <td>200</td>\n",
       "      <td>b</td>\n",
       "      <td>2</td>\n",
       "    </tr>\n",
       "    <tr>\n",
       "      <th>2</th>\n",
       "      <td>Rio</td>\n",
       "      <td>5</td>\n",
       "      <td>50</td>\n",
       "      <td>c</td>\n",
       "      <td>3</td>\n",
       "    </tr>\n",
       "    <tr>\n",
       "      <th>3</th>\n",
       "      <td>Ron</td>\n",
       "      <td>4</td>\n",
       "      <td>40</td>\n",
       "      <td>d</td>\n",
       "      <td>4</td>\n",
       "    </tr>\n",
       "    <tr>\n",
       "      <th>4</th>\n",
       "      <td>Piyali</td>\n",
       "      <td>7</td>\n",
       "      <td>70</td>\n",
       "      <td>e</td>\n",
       "      <td>5</td>\n",
       "    </tr>\n",
       "    <tr>\n",
       "      <th>5</th>\n",
       "      <td>Arunabha</td>\n",
       "      <td>11</td>\n",
       "      <td>110</td>\n",
       "      <td>f</td>\n",
       "      <td>6</td>\n",
       "    </tr>\n",
       "  </tbody>\n",
       "</table>\n",
       "</div>"
      ],
      "text/plain": [
       "       Name  value1  value2 type  new\n",
       "0    Pritam      10     100    a    1\n",
       "1     Madhu      20     200    b    2\n",
       "2       Rio       5      50    c    3\n",
       "3       Ron       4      40    d    4\n",
       "4    Piyali       7      70    e    5\n",
       "5  Arunabha      11     110    f    6"
      ]
     },
     "execution_count": 152,
     "metadata": {},
     "output_type": "execute_result"
    }
   ],
   "source": [
    "df['new'] = [1,2,3,4,5,6] #add a new column\n",
    "df"
   ]
  },
  {
   "cell_type": "code",
   "execution_count": 153,
   "metadata": {
    "collapsed": false
   },
   "outputs": [
    {
     "data": {
      "text/html": [
       "<div>\n",
       "<table border=\"1\" class=\"dataframe\">\n",
       "  <thead>\n",
       "    <tr style=\"text-align: right;\">\n",
       "      <th></th>\n",
       "      <th>Name</th>\n",
       "      <th>value1</th>\n",
       "      <th>value2</th>\n",
       "      <th>type</th>\n",
       "    </tr>\n",
       "  </thead>\n",
       "  <tbody>\n",
       "    <tr>\n",
       "      <th>0</th>\n",
       "      <td>Pritam</td>\n",
       "      <td>10</td>\n",
       "      <td>100</td>\n",
       "      <td>a</td>\n",
       "    </tr>\n",
       "    <tr>\n",
       "      <th>1</th>\n",
       "      <td>Madhu</td>\n",
       "      <td>20</td>\n",
       "      <td>200</td>\n",
       "      <td>b</td>\n",
       "    </tr>\n",
       "    <tr>\n",
       "      <th>2</th>\n",
       "      <td>Rio</td>\n",
       "      <td>5</td>\n",
       "      <td>50</td>\n",
       "      <td>c</td>\n",
       "    </tr>\n",
       "    <tr>\n",
       "      <th>3</th>\n",
       "      <td>Ron</td>\n",
       "      <td>4</td>\n",
       "      <td>40</td>\n",
       "      <td>d</td>\n",
       "    </tr>\n",
       "    <tr>\n",
       "      <th>4</th>\n",
       "      <td>Piyali</td>\n",
       "      <td>7</td>\n",
       "      <td>70</td>\n",
       "      <td>e</td>\n",
       "    </tr>\n",
       "    <tr>\n",
       "      <th>5</th>\n",
       "      <td>Arunabha</td>\n",
       "      <td>11</td>\n",
       "      <td>110</td>\n",
       "      <td>f</td>\n",
       "    </tr>\n",
       "  </tbody>\n",
       "</table>\n",
       "</div>"
      ],
      "text/plain": [
       "       Name  value1  value2 type\n",
       "0    Pritam      10     100    a\n",
       "1     Madhu      20     200    b\n",
       "2       Rio       5      50    c\n",
       "3       Ron       4      40    d\n",
       "4    Piyali       7      70    e\n",
       "5  Arunabha      11     110    f"
      ]
     },
     "execution_count": 153,
     "metadata": {},
     "output_type": "execute_result"
    }
   ],
   "source": [
    "df.pop('new') #delete a column by its name \n",
    "df"
   ]
  },
  {
   "cell_type": "code",
   "execution_count": 154,
   "metadata": {
    "collapsed": false
   },
   "outputs": [
    {
     "data": {
      "text/plain": [
       "['Piyali', 7, 70, 'e']"
      ]
     },
     "execution_count": 154,
     "metadata": {},
     "output_type": "execute_result"
    }
   ],
   "source": [
    "list(df.loc[4]) #select a row by using 'loc'"
   ]
  },
  {
   "cell_type": "code",
   "execution_count": 155,
   "metadata": {
    "collapsed": false
   },
   "outputs": [
    {
     "data": {
      "text/plain": [
       "['Rio', 5, 50, 'c']"
      ]
     },
     "execution_count": 155,
     "metadata": {},
     "output_type": "execute_result"
    }
   ],
   "source": [
    "list(df.iloc[2]) #select a row by using 'iloc'"
   ]
  },
  {
   "cell_type": "code",
   "execution_count": 156,
   "metadata": {
    "collapsed": false
   },
   "outputs": [
    {
     "data": {
      "text/html": [
       "<div>\n",
       "<table border=\"1\" class=\"dataframe\">\n",
       "  <thead>\n",
       "    <tr style=\"text-align: right;\">\n",
       "      <th></th>\n",
       "      <th>Name</th>\n",
       "      <th>value1</th>\n",
       "      <th>value2</th>\n",
       "      <th>type</th>\n",
       "    </tr>\n",
       "  </thead>\n",
       "  <tbody>\n",
       "    <tr>\n",
       "      <th>1</th>\n",
       "      <td>Madhu</td>\n",
       "      <td>20</td>\n",
       "      <td>200</td>\n",
       "      <td>b</td>\n",
       "    </tr>\n",
       "    <tr>\n",
       "      <th>2</th>\n",
       "      <td>Rio</td>\n",
       "      <td>5</td>\n",
       "      <td>50</td>\n",
       "      <td>c</td>\n",
       "    </tr>\n",
       "    <tr>\n",
       "      <th>3</th>\n",
       "      <td>Ron</td>\n",
       "      <td>4</td>\n",
       "      <td>40</td>\n",
       "      <td>d</td>\n",
       "    </tr>\n",
       "    <tr>\n",
       "      <th>4</th>\n",
       "      <td>Piyali</td>\n",
       "      <td>7</td>\n",
       "      <td>70</td>\n",
       "      <td>e</td>\n",
       "    </tr>\n",
       "  </tbody>\n",
       "</table>\n",
       "</div>"
      ],
      "text/plain": [
       "     Name  value1  value2 type\n",
       "1   Madhu      20     200    b\n",
       "2     Rio       5      50    c\n",
       "3     Ron       4      40    d\n",
       "4  Piyali       7      70    e"
      ]
     },
     "execution_count": 156,
     "metadata": {},
     "output_type": "execute_result"
    }
   ],
   "source": [
    "df.loc[1:4] #subset some rows using 'loc'"
   ]
  },
  {
   "cell_type": "code",
   "execution_count": 157,
   "metadata": {
    "collapsed": false
   },
   "outputs": [
    {
     "data": {
      "text/html": [
       "<div>\n",
       "<table border=\"1\" class=\"dataframe\">\n",
       "  <thead>\n",
       "    <tr style=\"text-align: right;\">\n",
       "      <th></th>\n",
       "      <th>Name</th>\n",
       "      <th>value1</th>\n",
       "      <th>value2</th>\n",
       "      <th>type</th>\n",
       "    </tr>\n",
       "  </thead>\n",
       "  <tbody>\n",
       "    <tr>\n",
       "      <th>1</th>\n",
       "      <td>Madhu</td>\n",
       "      <td>20</td>\n",
       "      <td>200</td>\n",
       "      <td>b</td>\n",
       "    </tr>\n",
       "    <tr>\n",
       "      <th>2</th>\n",
       "      <td>Rio</td>\n",
       "      <td>5</td>\n",
       "      <td>50</td>\n",
       "      <td>c</td>\n",
       "    </tr>\n",
       "    <tr>\n",
       "      <th>3</th>\n",
       "      <td>Ron</td>\n",
       "      <td>4</td>\n",
       "      <td>40</td>\n",
       "      <td>d</td>\n",
       "    </tr>\n",
       "  </tbody>\n",
       "</table>\n",
       "</div>"
      ],
      "text/plain": [
       "    Name  value1  value2 type\n",
       "1  Madhu      20     200    b\n",
       "2    Rio       5      50    c\n",
       "3    Ron       4      40    d"
      ]
     },
     "execution_count": 157,
     "metadata": {},
     "output_type": "execute_result"
    }
   ],
   "source": [
    "df.iloc[1:4] #subset some rows using iloc, note the difference"
   ]
  },
  {
   "cell_type": "code",
   "execution_count": 158,
   "metadata": {
    "collapsed": false
   },
   "outputs": [
    {
     "data": {
      "text/html": [
       "<div>\n",
       "<table border=\"1\" class=\"dataframe\">\n",
       "  <thead>\n",
       "    <tr style=\"text-align: right;\">\n",
       "      <th></th>\n",
       "      <th>Name</th>\n",
       "      <th>value1</th>\n",
       "      <th>value2</th>\n",
       "      <th>type</th>\n",
       "    </tr>\n",
       "  </thead>\n",
       "  <tbody>\n",
       "    <tr>\n",
       "      <th>0</th>\n",
       "      <td>Hello</td>\n",
       "      <td>1</td>\n",
       "      <td>2</td>\n",
       "      <td>x</td>\n",
       "    </tr>\n",
       "  </tbody>\n",
       "</table>\n",
       "</div>"
      ],
      "text/plain": [
       "    Name  value1  value2 type\n",
       "0  Hello       1       2    x"
      ]
     },
     "execution_count": 158,
     "metadata": {},
     "output_type": "execute_result"
    }
   ],
   "source": [
    "# add row to the data frame. Create a temporary data frame with exactly the same column names and data types.\n",
    "df_temp = pd.DataFrame([['Hello',1,2,'x']],columns=['Name','value1','value2','type'])\n",
    "df_temp"
   ]
  },
  {
   "cell_type": "code",
   "execution_count": 159,
   "metadata": {
    "collapsed": false
   },
   "outputs": [
    {
     "data": {
      "text/html": [
       "<div>\n",
       "<table border=\"1\" class=\"dataframe\">\n",
       "  <thead>\n",
       "    <tr style=\"text-align: right;\">\n",
       "      <th></th>\n",
       "      <th>Name</th>\n",
       "      <th>value1</th>\n",
       "      <th>value2</th>\n",
       "      <th>type</th>\n",
       "    </tr>\n",
       "  </thead>\n",
       "  <tbody>\n",
       "    <tr>\n",
       "      <th>6</th>\n",
       "      <td>Hello</td>\n",
       "      <td>1</td>\n",
       "      <td>2</td>\n",
       "      <td>x</td>\n",
       "    </tr>\n",
       "  </tbody>\n",
       "</table>\n",
       "</div>"
      ],
      "text/plain": [
       "    Name  value1  value2 type\n",
       "6  Hello       1       2    x"
      ]
     },
     "execution_count": 159,
     "metadata": {},
     "output_type": "execute_result"
    }
   ],
   "source": [
    "# add row to the data frame. Create a temporary data frame with exactly the same column names and data types. \n",
    "# this time use a specific index to act as the row index or row label\n",
    "df_temp_with_index = pd.DataFrame([['Hello',1,2,'x']],columns=['Name','value1','value2','type'],index=[6])\n",
    "df_temp_with_index"
   ]
  },
  {
   "cell_type": "code",
   "execution_count": 160,
   "metadata": {
    "collapsed": false
   },
   "outputs": [],
   "source": [
    "df_org = df.copy() # save the df by copying it.\n",
    "df_1 = df.append(df_temp) # then append\n",
    "df_2 = df.append(df_temp_with_index)"
   ]
  },
  {
   "cell_type": "code",
   "execution_count": 161,
   "metadata": {
    "collapsed": false
   },
   "outputs": [
    {
     "name": "stdout",
     "output_type": "stream",
     "text": [
      "       Name  value1  value2 type\n",
      "0    Pritam      10     100    a\n",
      "1     Madhu      20     200    b\n",
      "2       Rio       5      50    c\n",
      "3       Ron       4      40    d\n",
      "4    Piyali       7      70    e\n",
      "5  Arunabha      11     110    f \n",
      "\n",
      "       Name  value1  value2 type\n",
      "0    Pritam      10     100    a\n",
      "1     Madhu      20     200    b\n",
      "2       Rio       5      50    c\n",
      "3       Ron       4      40    d\n",
      "4    Piyali       7      70    e\n",
      "5  Arunabha      11     110    f\n",
      "0     Hello       1       2    x \n",
      "\n",
      "       Name  value1  value2 type\n",
      "0    Pritam      10     100    a\n",
      "1     Madhu      20     200    b\n",
      "2       Rio       5      50    c\n",
      "3       Ron       4      40    d\n",
      "4    Piyali       7      70    e\n",
      "5  Arunabha      11     110    f\n",
      "6     Hello       1       2    x\n"
     ]
    }
   ],
   "source": [
    "print(df_org,'\\n')\n",
    "print(df_1,'\\n') # note row got added with index = 0 , so multiple rows with same index 0\n",
    "print(df_2) # note tow got added with new index = 6"
   ]
  },
  {
   "cell_type": "code",
   "execution_count": 162,
   "metadata": {
    "collapsed": false
   },
   "outputs": [
    {
     "name": "stdout",
     "output_type": "stream",
     "text": [
      "       Name  value1  value2 type\n",
      "1     Madhu      20     200    b\n",
      "2       Rio       5      50    c\n",
      "3       Ron       4      40    d\n",
      "4    Piyali       7      70    e\n",
      "5  Arunabha      11     110    f\n"
     ]
    }
   ],
   "source": [
    "print(df_1.drop(0))  # will drop 2 rows having same index = 0"
   ]
  },
  {
   "cell_type": "code",
   "execution_count": 163,
   "metadata": {
    "collapsed": false
   },
   "outputs": [
    {
     "name": "stdout",
     "output_type": "stream",
     "text": [
      "       Name  value1  value2 type\n",
      "1     Madhu      20     200    b\n",
      "2       Rio       5      50    c\n",
      "3       Ron       4      40    d\n",
      "4    Piyali       7      70    e\n",
      "5  Arunabha      11     110    f\n",
      "6     Hello       1       2    x\n"
     ]
    }
   ],
   "source": [
    "print(df_2.drop(0)) # will drop only a single row with index = 0"
   ]
  },
  {
   "cell_type": "code",
   "execution_count": 187,
   "metadata": {
    "collapsed": false
   },
   "outputs": [
    {
     "name": "stdout",
     "output_type": "stream",
     "text": [
      "unsorted\n",
      "        Name  value1  value2 type\n",
      "0    Pritam      10     100    a\n",
      "1     Madhu      20     200    b\n",
      "2       Rio       5      50    c\n",
      "3       Ron       4      40    d\n",
      "4    Piyali       7      70    e\n",
      "5  Arunabha      11     110    f\n",
      "6    Pritam      11     110    a\n",
      "7     Madhu      21     210    b\n",
      "\n",
      "sorted\n",
      "        Name  value1  value2 type\n",
      "5  Arunabha      11     110    f\n",
      "7     Madhu      21     210    b\n",
      "1     Madhu      20     200    b\n",
      "4    Piyali       7      70    e\n",
      "6    Pritam      11     110    a\n",
      "0    Pritam      10     100    a\n",
      "2       Rio       5      50    c\n",
      "3       Ron       4      40    d\n"
     ]
    }
   ],
   "source": [
    "# now lets get back to the original data frame\n",
    "df = df_org.copy()\n",
    "\n",
    "# add a couple of rows \n",
    "df_temp = pd.DataFrame(data=[['Pritam',11,110,'a',],['Madhu',21,210,'b']],columns=['Name','value1','value2','type'],index=[6,7])\n",
    "df = df.append(df_temp)\n",
    "print('unsorted\\n',df)\n",
    "df_sorted = df.sort_values(by=['Name','value2'],ascending=[True,False])\n",
    "print('\\nsorted\\n',df_sorted)"
   ]
  },
  {
   "cell_type": "code",
   "execution_count": null,
   "metadata": {
    "collapsed": true
   },
   "outputs": [],
   "source": []
  }
 ],
 "metadata": {
  "anaconda-cloud": {},
  "kernelspec": {
   "display_name": "Python [Root]",
   "language": "python",
   "name": "Python [Root]"
  },
  "language_info": {
   "codemirror_mode": {
    "name": "ipython",
    "version": 3
   },
   "file_extension": ".py",
   "mimetype": "text/x-python",
   "name": "python",
   "nbconvert_exporter": "python",
   "pygments_lexer": "ipython3",
   "version": "3.5.2"
  }
 },
 "nbformat": 4,
 "nbformat_minor": 0
}
